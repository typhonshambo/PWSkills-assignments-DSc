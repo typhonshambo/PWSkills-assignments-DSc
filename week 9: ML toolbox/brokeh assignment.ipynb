{
    "cells": [
        {
            "cell_type": "markdown",
            "metadata": {},
            "source": [
                "# Bokeh Plotting in Python"
            ]
        },
        {
            "cell_type": "markdown",
            "metadata": {},
            "source": [
                "## Q1. How can you create a Bokeh plot using Python code?"
            ]
        },
        {
            "cell_type": "code",
            "execution_count": 1,
            "metadata": {},
            "outputs": [],
            "source": [
                "# Import necessary libraries\n",
                "from bokeh.plotting import figure, output_file, show\n",
                "\n",
                "# Create a Bokeh plot\n",
                "plot = figure()\n",
                "plot.line([1, 2, 3, 4, 5], [6, 7, 2, 4, 5], line_width=2)\n",
                "\n",
                "# Specify output file (optional)\n",
                "output_file('bokeh_plot.html')\n",
                "\n",
                "# Show the plot\n",
                "show(plot)"
            ]
        },
        {
            "cell_type": "markdown",
            "metadata": {},
            "source": [
                "## Q2. What are glyphs in Bokeh, and how can you add them to a Bokeh plot? Explain with an example."
            ]
        },
        {
            "cell_type": "code",
            "execution_count": 2,
            "metadata": {},
            "outputs": [],
            "source": [
                "# Import necessary libraries\n",
                "from bokeh.plotting import figure, output_file, show\n",
                "\n",
                "# Create a Bokeh plot\n",
                "plot = figure()\n",
                "\n",
                "# Add circle glyphs to the plot\n",
                "plot.circle([1, 2, 3, 4, 5], [6, 7, 2, 4, 5], size=10, color='navy', alpha=0.5)\n",
                "\n",
                "# Specify output file (optional)\n",
                "output_file('bokeh_glyphs.html')\n",
                "\n",
                "# Show the plot\n",
                "show(plot)"
            ]
        },
        {
            "cell_type": "markdown",
            "metadata": {},
            "source": [
                "## Q3. How can you customize the appearance of a Bokeh plot, including the axes, title, and legend?"
            ]
        },
        {
            "cell_type": "code",
            "execution_count": 3,
            "metadata": {},
            "outputs": [],
            "source": [
                "# Import necessary libraries\n",
                "from bokeh.plotting import figure, output_file, show\n",
                "\n",
                "# Create a Bokeh plot with customizations\n",
                "plot = figure(title='Customized Bokeh Plot', x_axis_label='X-axis', y_axis_label='Y-axis')\n",
                "plot.line([1, 2, 3, 4, 5], [6, 7, 2, 4, 5], line_width=2, legend_label='Line 1')\n",
                "plot.circle([1, 2, 3, 4, 5], [6, 7, 2, 4, 5], size=10, color='navy', alpha=0.5, legend_label='Circle Glyph')\n",
                "\n",
                "# Customize legend\n",
                "plot.legend.location = 'top_left'\n",
                "plot.legend.title = 'Legend'\n",
                "\n",
                "# Specify output file (optional)\n",
                "output_file('bokeh_customized_plot.html')\n",
                "\n",
                "# Show the plot\n",
                "show(plot)"
            ]
        },
        {
            "cell_type": "markdown",
            "metadata": {},
            "source": [
                "## Q4. What is a Bokeh server, and how can you use it to create interactive plots that can be updated in real time?"
            ]
        },
        {
            "cell_type": "code",
            "execution_count": 4,
            "metadata": {},
            "outputs": [],
            "source": [
                "# Bokeh server enables creating interactive plots\n",
                "# A Bokeh server application is a script that runs on a server and communicates with web browsers\n",
                "# Import necessary libraries\n",
                "from bokeh.io import curdoc\n",
                "from bokeh.plotting import figure\n",
                "from bokeh.models import ColumnDataSource\n",
                "from bokeh.driving import count\n",
                "\n",
                "# Create a Bokeh plot with server capabilities\n",
                "plot = figure()\n",
                "source = ColumnDataSource(data=dict(x=[], y=[]))\n",
                "plot.circle(x='x', y='y', source=source)\n",
                "\n",
                "# Define a function to update data\n",
                "@count()\n",
                "def update_data(step):\n",
                "    new_data = dict(x=[source.data['x'][-1] + 0.1], y=[source.data['y'][-1] + 0.1])\n",
                "    source.stream(new_data, rollover=20)\n",
                "\n",
                "# Add periodic callback to update data\n",
                "curdoc().add_periodic_callback(update_data, 100)\n",
                "\n",
                "# Show the plot\n",
                "show(plot)"
            ]
        },
        {
            "cell_type": "markdown",
            "metadata": {},
            "source": [
                "## Q5. How can you embed a Bokeh plot into a web page or dashboard using Flask or Django?"
            ]
        },
        {
            "cell_type": "markdown",
            "metadata": {},
            "source": [
                "### Using Flask:"
            ]
        },
        {
            "cell_type": "code",
            "execution_count": 5,
            "metadata": {},
            "outputs": [],
            "source": [
                "# Import necessary libraries\n",
                "from flask import Flask, render_template\n",
                "from bokeh.embed import components\n",
                "from bokeh.plotting import figure\n",
                "\n",
                "# Create a Bokeh plot\n",
                "plot = figure()\n",
                "plot.line([1, 2, 3, 4, 5], [6, 7, 2, 4, 5], line_width=2)\n",
                "\n",
                "# Get components (script and div)\n",
                "script, div = components(plot)\n",
                "\n",
                "# Create a Flask app\n",
                "app = Flask(__name__)\n",
                "\n",
                "# Define a route to render the template\n",
                "@app.route('/plot')\n",
                "def bokeh_plot():\n",
                "    return render_template('bokeh_plot.html', script=script, div=div)\n",
                "\n",
                "# Run the Flask app\n",
                "if __name__ == '__main__':\n",
                "    app.run(debug=True)"
            ]
        }
    ],
    "metadata": {
        "kernelspec": {
            "display_name": "Python 3",
            "language": "python",
            "name": "python3"
        },
        "language_info": {
            "codemirror_mode": {
                "name": "ipython",
                "version": 3
            },
            "file_extension": ".py",
            "mimetype": "text/x-python",
            "name": "python",
            "nbconvert_exporter": "python",
            "pygments_lexer": "ipython3",
            "version": "3.8.5"
        }
    },
    "nbformat": 4,
    "nbformat_minor": 5
}
