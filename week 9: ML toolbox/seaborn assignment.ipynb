{
 "cells": [
  {
   "cell_type": "code",
   "execution_count": 1,
   "id": "ceb3a83d",
   "metadata": {},
   "outputs": [],
   "source": [
    "# Importing necessary libraries\n",
    "import seaborn as sns\n",
    "import matplotlib.pyplot as plt\n"
   ]
  },
  {
   "cell_type": "code",
   "execution_count": 2,
   "id": "81253a6b",
   "metadata": {},
   "outputs": [],
   "source": [
    "# 1. Scatter Plot\n",
    "sns.scatterplot(x='x_variable', y='y_variable', data=data)"
   ]
  },
  {
   "cell_type": "code",
   "execution_count": 3,
   "id": "f602ce4f",
   "metadata": {},
   "outputs": [],
   "source": [
    "# 2. Bar Plot\n",
    "sns.barplot(x='category', y='value', data=data)"
   ]
  },
  {
   "cell_type": "code",
   "execution_count": 4,
   "id": "a1ec05aa",
   "metadata": {},
   "outputs": [],
   "source": [
    "# 3. Box Plot\n",
    "sns.boxplot(x='category', y='value', data=data)"
   ]
  },
  {
   "cell_type": "code",
   "execution_count": 5,
   "id": "2f169b1f",
   "metadata": {},
   "outputs": [],
   "source": [
    "# 4. Violin Plot\n",
    "sns.violinplot(x='category', y='value', data=data)"
   ]
  },
  {
   "cell_type": "code",
   "execution_count": 6,
   "id": "f3191e3f",
   "metadata": {},
   "outputs": [],
   "source": [
    "# 5. Pair Plot\n",
    "sns.pairplot(data)\n",
    "plt.show()  # Output: Pair Plot"
   ]
  },
  {
   "cell_type": "code",
   "execution_count": 7,
   "id": "5fea2ce0",
   "metadata": {},
   "outputs": [],
   "source": [
    "# 2. Load the \"fmri\" dataset and plot a line plot\n",
    "fmri_data = sns.load_dataset('fmri')\n",
    "sns.lineplot(x='timepoint', y='signal', hue='event', style='region', data=fmri_data)\n",
    "plt.show()  # Output: Line Plot"
   ]
  },
  {
   "cell_type": "code",
   "execution_count": 8,
   "id": "a937660a",
   "metadata": {},
   "outputs": [],
   "source": [
    "# 3. Load the \"titanic\" dataset and plot two box plots\n",
    "titanic_data = sns.load_dataset('titanic')\n",
    "plt.figure(figsize=(12, 6))\n",
    "\n",
    "plt.subplot(1, 2, 1)\n",
    "sns.boxplot(x='pclass', y='age', data=titanic_data)\n",
    "\n",
    "plt.subplot(1, 2, 2)\n",
    "sns.boxplot(x='pclass', y='fare', data=titanic_data)\n",
    "\n",
    "plt.show()  # Output: Two Box Plots"
   ]
  },
  {
   "cell_type": "code",
   "execution_count": 9,
   "id": "cd71d67c",
   "metadata": {},
   "outputs": [],
   "source": [
    "# 4. Use the \"diamonds\" dataset to plot a histogram\n",
    "diamonds_data = sns.load_dataset('diamonds')\n",
    "sns.histplot(data=diamonds_data, x='price', hue='cut', multiple='stack')\n",
    "plt.show()  # Output: Histogram"
   ]
  },
  {
   "cell_type": "code",
   "execution_count": 10,
   "id": "76a267f9",
   "metadata": {},
   "outputs": [],
   "source": [
    "# 5. Use the \"iris\" dataset to plot a pair plot\n",
    "iris_data = sns.load_dataset('iris')\n",
    "sns.pairplot(iris_data, hue='species')\n",
    "plt.show()  # Output: Pair Plot"
   ]
  },
  {
   "cell_type": "code",
   "execution_count": 11,
   "id": "7e0cd7d4",
   "metadata": {},
   "outputs": [],
   "source": [
    "# 6. Use the \"flights\" dataset to plot a heatmap\n",
    "flights_data = sns.load_dataset('flights')\n",
    "flights_pivot = flights_data.pivot_table(index='month', columns='year', values='passengers')\n",
    "sns.heatmap(flights_pivot, cmap='coolwarm', annot=True, fmt='d')\n",
    "plt.show()  # Output: Heatmap"
   ]
  }
 ],
 "metadata": {
  "kernelspec": {
   "display_name": "Python 3",
   "language": "python",
   "name": "python3"
  },
  "language_info": {
   "codemirror_mode": {
    "name": "ipython",
    "version": 3
   },
   "file_extension": ".py",
   "mimetype": "text/x-python",
   "name": "python",
   "nbconvert_exporter": "python",
   "pygments_lexer": "ipython3",
   "version": "3.9.6"
  }
 },
 "nbformat": 4,
 "nbformat_minor": 5
}
