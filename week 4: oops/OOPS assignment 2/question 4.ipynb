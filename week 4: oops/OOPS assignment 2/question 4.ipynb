{
 "cells": [
  {
   "cell_type": "markdown",
   "metadata": {},
   "source": [
    "## How can we achieve data abstraction?\n",
    "\n",
    "> ### Data abstraction is the process of hiding the implementation details of an object from the user. This allows the user to focus on the essential features of the object, without having to worry about how the object works internally.\n",
    "\n"
   ]
  }
 ],
 "metadata": {
  "language_info": {
   "name": "python"
  },
  "orig_nbformat": 4
 },
 "nbformat": 4,
 "nbformat_minor": 2
}
