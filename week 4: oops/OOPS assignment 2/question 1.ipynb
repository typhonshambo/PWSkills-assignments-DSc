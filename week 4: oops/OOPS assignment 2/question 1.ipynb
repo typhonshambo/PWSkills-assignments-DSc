{
 "cells": [
  {
   "cell_type": "markdown",
   "metadata": {},
   "source": [
    "## What is Abstraction in OOps? \n",
    "## Explain with an example.\n",
    "\n",
    "### Abstraction is the process of making a template of the class.\n",
    "We just make different functions and simply pass them so that we can code them later on.\n",
    "\n"
   ]
  },
  {
   "cell_type": "code",
   "execution_count": null,
   "metadata": {},
   "outputs": [],
   "source": [
    "#example\n",
    "class Car:\n",
    "    def drive(self):\n",
    "        pass\n",
    "\n",
    "    def stop(self):\n",
    "        pass"
   ]
  }
 ],
 "metadata": {
  "language_info": {
   "name": "python"
  },
  "orig_nbformat": 4
 },
 "nbformat": 4,
 "nbformat_minor": 2
}
