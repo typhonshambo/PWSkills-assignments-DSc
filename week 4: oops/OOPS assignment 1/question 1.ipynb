{
 "cells": [
  {
   "cell_type": "code",
   "execution_count": null,
   "metadata": {},
   "outputs": [],
   "source": [
    "'''\n",
    "Explain Class and Object with respect to Object-Oriented Programming. \n",
    "Give a suitable example.\n",
    "\n",
    "- A class is a template or blueeprint for creating objects\n",
    "- An object is an instance of class and it has real world value and entity.\n",
    "'''\n",
    "\n"
   ]
  },
  {
   "cell_type": "code",
   "execution_count": null,
   "metadata": {},
   "outputs": [],
   "source": [
    "class cars: #here is a class car it is acting as a template for different cars\n",
    "    \n",
    "    def __init__(self, name, speed) -> None:\n",
    "        self.__name = name\n",
    "        self.__speed = speed\n",
    "\n",
    "cars = cars(\"toyota\" , 30) #this is an object with class car\n"
   ]
  }
 ],
 "metadata": {
  "language_info": {
   "name": "python"
  },
  "orig_nbformat": 4
 },
 "nbformat": 4,
 "nbformat_minor": 2
}
