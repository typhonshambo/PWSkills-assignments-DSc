{
 "cells": [
  {
   "cell_type": "code",
   "execution_count": 1,
   "metadata": {},
   "outputs": [],
   "source": [
    "# Import necessary libraries\n",
    "import seaborn as sns\n",
    "import plotly.express as px"
   ]
  },
  {
   "cell_type": "code",
   "execution_count": 2,
   "metadata": {},
   "outputs": [],
   "source": [
    "# Q1. Load the 'titanic' dataset and plot a scatter plot for age and fare columns\n",
    "titanic_data = sns.load_dataset('titanic')\n",
    "scatter_fig = px.scatter(titanic_data, x='age', y='fare', title='Scatter Plot: Age vs Fare')\n",
    "scatter_fig.show()"
   ]
  },
  {
   "cell_type": "code",
   "execution_count": 3,
   "metadata": {},
   "outputs": [],
   "source": [
    "# Q2. Using the 'tips' dataset, plot a box plot\n",
    "tips_data = px.data.tips\n",
    "box_fig = px.box(tips_data, x='day', y='total_bill', title='Box Plot: Day vs Total Bill')\n",
    "box_fig.show()"
   ]
  },
  {
   "cell_type": "code",
   "execution_count": 4,
   "metadata": {},
   "outputs": [],
   "source": [
    "# Q3. Using the 'tips' dataset, plot a histogram for 'sex' vs 'total_bill' with pattern_shape and color parameters\n",
    "histogram_fig = px.histogram(tips_data, x='sex', y='total_bill', color='day', facet_col='smoker',\n",
    "                              pattern_shape='smoker', title='Histogram: Sex vs Total Bill')\n",
    "histogram_fig.show()"
   ]
  },
  {
   "cell_type": "code",
   "execution_count": 5,
   "metadata": {},
   "outputs": [],
   "source": [
    "# Q4. Using the 'iris' dataset, plot a scatter matrix plot with 'species' column for the color parameter\n",
    "iris_data = px.data.iris\n",
    "scatter_matrix_fig = px.scatter_matrix(iris_data, dimensions=['sepal_length', 'sepal_width', 'petal_length', 'petal_width'],\n",
    "                                     color='species', title='Scatter Matrix Plot')\n",
    "scatter_matrix_fig.show()"
   ]
  },
  {
   "cell_type": "code",
   "execution_count": 6,
   "metadata": {},
   "outputs": [],
   "source": [
    "# Q5. What is Distplot? Using Plotly express, plot a distplot\n",
    "# Distplot is a deprecated function in Plotly Express, use Histogram instead\n",
    "distplot_fig = px.histogram(tips_data, x='total_bill', marginal='rug', title='Distplot: Total Bill')\n",
    "distplot_fig.show()"
   ]
  }
 ],
 "metadata": {
  "kernelspec": {
   "display_name": "Python 3",
   "language": "python",
   "name": "python3"
  },
  "language_info": {
   "codemirror_mode": {
    "name": "ipython",
    "version": 3
   },
   "file_extension": ".py",
   "mimetype": "text/x-python",
   "name": "python",
   "nbconvert_exporter": "python",
   "pygments_lexer": "ipython3",
   "version": "3.8.5"
  }
 },
 "nbformat": 4,
 "nbformat_minor": 5
}
