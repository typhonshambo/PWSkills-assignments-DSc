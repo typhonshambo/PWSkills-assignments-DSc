{
 "cells": [
  {
   "cell_type": "markdown",
   "metadata": {},
   "source": [
    "## Q1"
   ]
  },
  {
   "cell_type": "code",
   "execution_count": 42,
   "metadata": {},
   "outputs": [
    {
     "data": {
      "text/plain": [
       "course_name    Machine Learning\n",
       "duration                      3\n",
       "Name: 1, dtype: object"
      ]
     },
     "execution_count": 42,
     "metadata": {},
     "output_type": "execute_result"
    }
   ],
   "source": [
    "import pandas as pd\n",
    "course_name = ['Data Science', 'Machine Learning', 'Big Data', 'Data Engineer']\n",
    "duration = [2,3,6,4]\n",
    "df = pd.DataFrame(data = {'course_name' : course_name, 'duration' : duration})\n",
    "df.iloc[1] "
   ]
  },
  {
   "cell_type": "markdown",
   "metadata": {},
   "source": [
    "## Q2"
   ]
  },
  {
   "cell_type": "markdown",
   "metadata": {},
   "source": [
    "iloc -> it takes index of the location where u want to \n",
    "loc -> it takes the lable of the "
   ]
  },
  {
   "cell_type": "code",
   "execution_count": 43,
   "metadata": {},
   "outputs": [
    {
     "name": "stdout",
     "output_type": "stream",
     "text": [
      "   A  B  C\n",
      "X  1  4  7\n",
      "Y  2  5  8\n",
      "Z  3  6  9\n",
      "8\n",
      "8\n"
     ]
    }
   ],
   "source": [
    "import pandas as pd\n",
    "\n",
    "# Creating a sample DataFrame\n",
    "data = {'A': [1, 2, 3], 'B': [4, 5, 6], 'C': [7, 8, 9]}\n",
    "df = pd.DataFrame(data, index=['X', 'Y', 'Z'])\n",
    "print(df)\n",
    "# Using iloc\n",
    "print(df.iloc[1, 2])  # Accessing element in the second row and third column using integer indices\n",
    "\n",
    "# Using loc\n",
    "print(df.loc['Y', 'C'])  # Accessing element in the row labeled 'Y' and column labeled 'C'\n"
   ]
  },
  {
   "cell_type": "markdown",
   "metadata": {},
   "source": [
    "## Q3"
   ]
  },
  {
   "cell_type": "code",
   "execution_count": 44,
   "metadata": {},
   "outputs": [
    {
     "name": "stdout",
     "output_type": "stream",
     "text": [
      "        course_name  duration\n",
      "0      Data Science         2\n",
      "1  Machine Learning         3\n",
      "2          Big Data         6\n",
      "3     Data Engineer         4\n",
      "============\n",
      "        course_name  duration\n",
      "3     Data Engineer         4\n",
      "0      Data Science         2\n",
      "1  Machine Learning         3\n",
      "2          Big Data         6\n",
      "course_name    Big Data\n",
      "duration              6\n",
      "Name: 2, dtype: object\n",
      "============\n",
      "course_name    Machine Learning\n",
      "duration                      3\n",
      "Name: 1, dtype: object\n"
     ]
    }
   ],
   "source": [
    "import pandas as pd\n",
    "course_name = ['Data Science', 'Machine Learning', 'Big Data', 'Data Engineer']\n",
    "duration = [2,3,6,4]\n",
    "df = pd.DataFrame(data = {'course_name' : course_name, 'duration' : duration})\n",
    "print(df)\n",
    "print(\"============\")\n",
    "new_df = df.reindex([3,0,1,2])\n",
    "print(new_df)\n",
    "print(new_df.loc[2])\n",
    "print(\"============\")\n",
    "print(new_df.iloc[2])"
   ]
  },
  {
   "cell_type": "markdown",
   "metadata": {},
   "source": [
    "the changes we saw here is that <br>\n",
    "iloc is printing row index 2 --> `1  Machine Learning         3`<br>\n",
    "whereas loc is printing row with lable 2 --> `2          Big Data         6`"
   ]
  },
  {
   "cell_type": "markdown",
   "metadata": {},
   "source": [
    "## Q4"
   ]
  },
  {
   "cell_type": "code",
   "execution_count": 45,
   "metadata": {},
   "outputs": [
    {
     "data": {
      "text/html": [
       "<div>\n",
       "<style scoped>\n",
       "    .dataframe tbody tr th:only-of-type {\n",
       "        vertical-align: middle;\n",
       "    }\n",
       "\n",
       "    .dataframe tbody tr th {\n",
       "        vertical-align: top;\n",
       "    }\n",
       "\n",
       "    .dataframe thead th {\n",
       "        text-align: right;\n",
       "    }\n",
       "</style>\n",
       "<table border=\"1\" class=\"dataframe\">\n",
       "  <thead>\n",
       "    <tr style=\"text-align: right;\">\n",
       "      <th></th>\n",
       "      <th>column_1</th>\n",
       "      <th>column_2</th>\n",
       "      <th>column_3</th>\n",
       "      <th>column_4</th>\n",
       "      <th>column_5</th>\n",
       "      <th>column_6</th>\n",
       "    </tr>\n",
       "  </thead>\n",
       "  <tbody>\n",
       "    <tr>\n",
       "      <th>1</th>\n",
       "      <td>0.130787</td>\n",
       "      <td>0.724916</td>\n",
       "      <td>0.125565</td>\n",
       "      <td>0.303383</td>\n",
       "      <td>0.268965</td>\n",
       "      <td>0.935369</td>\n",
       "    </tr>\n",
       "    <tr>\n",
       "      <th>2</th>\n",
       "      <td>0.126585</td>\n",
       "      <td>0.754655</td>\n",
       "      <td>0.479298</td>\n",
       "      <td>0.321398</td>\n",
       "      <td>0.571638</td>\n",
       "      <td>0.274440</td>\n",
       "    </tr>\n",
       "    <tr>\n",
       "      <th>3</th>\n",
       "      <td>0.383616</td>\n",
       "      <td>0.515917</td>\n",
       "      <td>0.403966</td>\n",
       "      <td>0.622581</td>\n",
       "      <td>0.843104</td>\n",
       "      <td>0.406539</td>\n",
       "    </tr>\n",
       "    <tr>\n",
       "      <th>4</th>\n",
       "      <td>0.516905</td>\n",
       "      <td>0.970855</td>\n",
       "      <td>0.369179</td>\n",
       "      <td>0.061130</td>\n",
       "      <td>0.104852</td>\n",
       "      <td>0.412438</td>\n",
       "    </tr>\n",
       "    <tr>\n",
       "      <th>5</th>\n",
       "      <td>0.739325</td>\n",
       "      <td>0.311699</td>\n",
       "      <td>0.207331</td>\n",
       "      <td>0.623017</td>\n",
       "      <td>0.335025</td>\n",
       "      <td>0.661667</td>\n",
       "    </tr>\n",
       "    <tr>\n",
       "      <th>6</th>\n",
       "      <td>0.663280</td>\n",
       "      <td>0.417035</td>\n",
       "      <td>0.844577</td>\n",
       "      <td>0.575326</td>\n",
       "      <td>0.271309</td>\n",
       "      <td>0.439128</td>\n",
       "    </tr>\n",
       "  </tbody>\n",
       "</table>\n",
       "</div>"
      ],
      "text/plain": [
       "   column_1  column_2  column_3  column_4  column_5  column_6\n",
       "1  0.130787  0.724916  0.125565  0.303383  0.268965  0.935369\n",
       "2  0.126585  0.754655  0.479298  0.321398  0.571638  0.274440\n",
       "3  0.383616  0.515917  0.403966  0.622581  0.843104  0.406539\n",
       "4  0.516905  0.970855  0.369179  0.061130  0.104852  0.412438\n",
       "5  0.739325  0.311699  0.207331  0.623017  0.335025  0.661667\n",
       "6  0.663280  0.417035  0.844577  0.575326  0.271309  0.439128"
      ]
     },
     "execution_count": 45,
     "metadata": {},
     "output_type": "execute_result"
    }
   ],
   "source": [
    "import pandas as pd\n",
    "import numpy as np\n",
    "columns = ['column_1', 'column_2', 'column_3', 'column_4', 'column_5', 'column_6']\n",
    "indices = [1,2,3,4,5,6]\n",
    "#Creating a dataframe:\n",
    "df1 = pd.DataFrame(np.random.rand(6,6), columns = columns, index = indices)\n",
    "df1"
   ]
  },
  {
   "cell_type": "code",
   "execution_count": 46,
   "metadata": {},
   "outputs": [
    {
     "data": {
      "text/plain": [
       "column_1    0.426750\n",
       "column_2    0.615846\n",
       "column_3    0.404986\n",
       "column_4    0.417806\n",
       "column_5    0.399149\n",
       "column_6    0.521597\n",
       "dtype: float64"
      ]
     },
     "execution_count": 46,
     "metadata": {},
     "output_type": "execute_result"
    }
   ],
   "source": [
    "df1.mean()"
   ]
  },
  {
   "cell_type": "code",
   "execution_count": 47,
   "metadata": {},
   "outputs": [
    {
     "data": {
      "text/plain": [
       "column_1    0.261278\n",
       "column_2    0.244627\n",
       "column_3    0.251869\n",
       "column_4    0.227360\n",
       "column_5    0.264901\n",
       "column_6    0.238272\n",
       "dtype: float64"
      ]
     },
     "execution_count": 47,
     "metadata": {},
     "output_type": "execute_result"
    }
   ],
   "source": [
    "df1.std()"
   ]
  },
  {
   "cell_type": "markdown",
   "metadata": {},
   "source": [
    "## Q5"
   ]
  },
  {
   "cell_type": "code",
   "execution_count": 55,
   "metadata": {},
   "outputs": [
    {
     "data": {
      "text/html": [
       "<div>\n",
       "<style scoped>\n",
       "    .dataframe tbody tr th:only-of-type {\n",
       "        vertical-align: middle;\n",
       "    }\n",
       "\n",
       "    .dataframe tbody tr th {\n",
       "        vertical-align: top;\n",
       "    }\n",
       "\n",
       "    .dataframe thead th {\n",
       "        text-align: right;\n",
       "    }\n",
       "</style>\n",
       "<table border=\"1\" class=\"dataframe\">\n",
       "  <thead>\n",
       "    <tr style=\"text-align: right;\">\n",
       "      <th></th>\n",
       "      <th>column_1</th>\n",
       "      <th>column_2</th>\n",
       "      <th>column_3</th>\n",
       "      <th>column_4</th>\n",
       "      <th>column_5</th>\n",
       "      <th>column_6</th>\n",
       "    </tr>\n",
       "  </thead>\n",
       "  <tbody>\n",
       "    <tr>\n",
       "      <th>1</th>\n",
       "      <td>0.872856</td>\n",
       "      <td>0.577873</td>\n",
       "      <td>0.198306</td>\n",
       "      <td>0.396411</td>\n",
       "      <td>0.929804</td>\n",
       "      <td>0.043014</td>\n",
       "    </tr>\n",
       "    <tr>\n",
       "      <th>2</th>\n",
       "      <td>0.014525</td>\n",
       "      <td>NewString</td>\n",
       "      <td>0.245320</td>\n",
       "      <td>0.195475</td>\n",
       "      <td>0.716078</td>\n",
       "      <td>0.609719</td>\n",
       "    </tr>\n",
       "    <tr>\n",
       "      <th>3</th>\n",
       "      <td>0.696042</td>\n",
       "      <td>0.689082</td>\n",
       "      <td>0.729594</td>\n",
       "      <td>0.549576</td>\n",
       "      <td>0.260244</td>\n",
       "      <td>0.385717</td>\n",
       "    </tr>\n",
       "    <tr>\n",
       "      <th>4</th>\n",
       "      <td>0.863963</td>\n",
       "      <td>0.756396</td>\n",
       "      <td>0.228623</td>\n",
       "      <td>0.404831</td>\n",
       "      <td>0.188119</td>\n",
       "      <td>0.573988</td>\n",
       "    </tr>\n",
       "    <tr>\n",
       "      <th>5</th>\n",
       "      <td>0.502665</td>\n",
       "      <td>0.958002</td>\n",
       "      <td>0.324101</td>\n",
       "      <td>0.734294</td>\n",
       "      <td>0.845700</td>\n",
       "      <td>0.067046</td>\n",
       "    </tr>\n",
       "    <tr>\n",
       "      <th>6</th>\n",
       "      <td>0.385456</td>\n",
       "      <td>0.804371</td>\n",
       "      <td>0.995215</td>\n",
       "      <td>0.801080</td>\n",
       "      <td>0.866792</td>\n",
       "      <td>0.170024</td>\n",
       "    </tr>\n",
       "  </tbody>\n",
       "</table>\n",
       "</div>"
      ],
      "text/plain": [
       "   column_1   column_2  column_3  column_4  column_5  column_6\n",
       "1  0.872856   0.577873  0.198306  0.396411  0.929804  0.043014\n",
       "2  0.014525  NewString  0.245320  0.195475  0.716078  0.609719\n",
       "3  0.696042   0.689082  0.729594  0.549576  0.260244  0.385717\n",
       "4  0.863963   0.756396  0.228623  0.404831  0.188119  0.573988\n",
       "5  0.502665   0.958002  0.324101  0.734294  0.845700  0.067046\n",
       "6  0.385456   0.804371  0.995215  0.801080  0.866792  0.170024"
      ]
     },
     "execution_count": 55,
     "metadata": {},
     "output_type": "execute_result"
    }
   ],
   "source": [
    "import pandas as pd\n",
    "import numpy as np\n",
    "columns = ['column_1', 'column_2', 'column_3', 'column_4', 'column_5', 'column_6']\n",
    "indices = [1,2,3,4,5,6]\n",
    "#Creating a dataframe:\n",
    "df1 = pd.DataFrame(np.random.rand(6,6), columns = columns, index = indices)\n",
    "replacement = \"NewString\"\n",
    "\n",
    "df1['column_2'] = df1['column_2'].astype(object) #to prevent any issue with data type\n",
    "\n",
    "df1.loc[2,\"column_2\"] = replacement\n",
    "df1"
   ]
  },
  {
   "cell_type": "markdown",
   "metadata": {},
   "source": [
    "the error we were getting is due to assingnment of string datatype to float\n",
    "we prevented it by converting the column to object first\n",
    "```python\n",
    "df1['column_2'] = df1['column_2'].astype(object)\n",
    "```"
   ]
  },
  {
   "cell_type": "markdown",
   "metadata": {},
   "source": [
    "## Q6"
   ]
  },
  {
   "cell_type": "markdown",
   "metadata": {},
   "source": [
    "window function allows us to perform a specific function on specific location of any dataframe,\n",
    "<br>for example\n",
    "<br>`df['column'].rolling(window=3).mean()`\n",
    "<br>will perform mean() on the first 3 rows the the column name `column`"
   ]
  },
  {
   "cell_type": "markdown",
   "metadata": {},
   "source": [
    "## Q7"
   ]
  },
  {
   "cell_type": "code",
   "execution_count": 57,
   "metadata": {},
   "outputs": [
    {
     "data": {
      "text/html": [
       "<div>\n",
       "<style scoped>\n",
       "    .dataframe tbody tr th:only-of-type {\n",
       "        vertical-align: middle;\n",
       "    }\n",
       "\n",
       "    .dataframe tbody tr th {\n",
       "        vertical-align: top;\n",
       "    }\n",
       "\n",
       "    .dataframe thead th {\n",
       "        text-align: right;\n",
       "    }\n",
       "</style>\n",
       "<table border=\"1\" class=\"dataframe\">\n",
       "  <thead>\n",
       "    <tr style=\"text-align: right;\">\n",
       "      <th></th>\n",
       "      <th>Month</th>\n",
       "      <th>Year</th>\n",
       "    </tr>\n",
       "  </thead>\n",
       "  <tbody>\n",
       "    <tr>\n",
       "      <th>0</th>\n",
       "      <td>12</td>\n",
       "      <td>2023</td>\n",
       "    </tr>\n",
       "  </tbody>\n",
       "</table>\n",
       "</div>"
      ],
      "text/plain": [
       "   Month  Year\n",
       "0     12  2023"
      ]
     },
     "execution_count": 57,
     "metadata": {},
     "output_type": "execute_result"
    }
   ],
   "source": [
    "import pandas as pd\n",
    "from datetime import datetime\n",
    "\n",
    "# Get the current date and time\n",
    "current_date = datetime.now()\n",
    "\n",
    "# Extract the current month and year\n",
    "current_month = current_date.month\n",
    "current_year = current_date.year\n",
    "\n",
    "# Create a DataFrame with the extracted values\n",
    "df = pd.DataFrame({'Month': [current_month], 'Year': [current_year]})\n",
    "\n",
    "# Print the DataFrame\n",
    "df\n"
   ]
  },
  {
   "cell_type": "markdown",
   "metadata": {},
   "source": [
    "## Q8"
   ]
  },
  {
   "cell_type": "code",
   "execution_count": 58,
   "metadata": {},
   "outputs": [
    {
     "name": "stdout",
     "output_type": "stream",
     "text": [
      "\n",
      "Time difference between 2004-06-04 and 2004-09-04:\n",
      "Days: 92, Hours: 0, Minutes: 0\n"
     ]
    }
   ],
   "source": [
    "import pandas as pd\n",
    "\n",
    "# Function to calculate the difference between two dates\n",
    "def calculate_time_difference(start_date, end_date):\n",
    "    # Convert input strings to datetime objects\n",
    "    start_date = pd.to_datetime(start_date, format='%Y-%m-%d')\n",
    "    end_date = pd.to_datetime(end_date, format='%Y-%m-%d')\n",
    "\n",
    "    # Calculate the time difference\n",
    "    time_difference = end_date - start_date\n",
    "\n",
    "    # Extract days, hours, and minutes\n",
    "    days = time_difference.days\n",
    "    hours, remainder = divmod(time_difference.seconds, 3600)\n",
    "    minutes, _ = divmod(remainder, 60)\n",
    "\n",
    "    return days, hours, minutes\n",
    "\n",
    "# Get user input for two dates\n",
    "start_date_input = input(\"Enter the start date (YYYY-MM-DD): \")\n",
    "end_date_input = input(\"Enter the end date (YYYY-MM-DD): \")\n",
    "\n",
    "# Calculate the time difference\n",
    "days_diff, hours_diff, minutes_diff = calculate_time_difference(start_date_input, end_date_input)\n",
    "\n",
    "# Display the result\n",
    "print(f\"\\nTime difference between {start_date_input} and {end_date_input}:\")\n",
    "print(f\"Days: {days_diff}, Hours: {hours_diff}, Minutes: {minutes_diff}\")\n"
   ]
  },
  {
   "cell_type": "markdown",
   "metadata": {},
   "source": [
    "## Q9"
   ]
  },
  {
   "cell_type": "code",
   "execution_count": null,
   "metadata": {},
   "outputs": [],
   "source": [
    "import pandas as pd\n",
    "\n",
    "# Function to convert a specified column to categorical and display sorted data\n",
    "def convert_to_categorical(file_path, column_name, category_order):\n",
    "    # Read the CSV file\n",
    "    df = pd.read_csv(file_path)\n",
    "\n",
    "    # Convert the specified column to categorical with specified order\n",
    "    df[column_name] = pd.Categorical(df[column_name], categories=category_order, ordered=True)\n",
    "\n",
    "    # Display the sorted data\n",
    "    sorted_data = df.sort_values(by=[column_name])\n",
    "    print(\"\\nSorted Data:\")\n",
    "    print(sorted_data)\n",
    "\n",
    "# Get user input for file path, column name, and category order\n",
    "file_path = input(\"Enter the CSV file path: \")\n",
    "column_name = input(\"Enter the column name to convert to categorical: \")\n",
    "category_order_str = input(\"Enter the category order (comma-separated): \")\n",
    "\n",
    "# Convert the comma-separated string to a list of categories\n",
    "category_order = [category.strip() for category in category_order_str.split(',')]\n",
    "\n",
    "# Call the function to convert and display the sorted data\n",
    "convert_to_categorical(file_path, column_name, category_order)\n"
   ]
  },
  {
   "cell_type": "markdown",
   "metadata": {},
   "source": [
    "## Q10\n"
   ]
  },
  {
   "cell_type": "code",
   "execution_count": null,
   "metadata": {},
   "outputs": [],
   "source": [
    "import pandas as pd\n",
    "import matplotlib.pyplot as plt\n",
    "\n",
    "# Function to read CSV file and visualize sales data using a stacked bar chart\n",
    "def visualize_sales_data(file_path):\n",
    "    # Read the CSV file\n",
    "    df = pd.read_csv(file_path)\n",
    "\n",
    "    # Assuming the CSV file has columns like 'Product Category', 'Date', and 'Sales'\n",
    "    # You might need to adjust the column names based on your actual data\n",
    "\n",
    "    # Convert 'Date' column to datetime type\n",
    "    df['Date'] = pd.to_datetime(df['Date'])\n",
    "\n",
    "    # Create a pivot table to aggregate sales by product category and date\n",
    "    pivot_table = df.pivot_table(values='Sales', index='Date', columns='Product Category', aggfunc='sum', fill_value=0)\n",
    "\n",
    "    # Plot a stacked bar chart\n",
    "    pivot_table.plot(kind='bar', stacked=True, figsize=(10, 6))\n",
    "    plt.title('Sales Data by Product Category Over Time')\n",
    "    plt.xlabel('Date')\n",
    "    plt.ylabel('Sales')\n",
    "    plt.legend(title='Product Category', bbox_to_anchor=(1.05, 1), loc='upper left')\n",
    "\n",
    "    # Show the chart\n",
    "    plt.show()\n",
    "\n",
    "# Get user input for the file path\n",
    "file_path = input(\"Enter the CSV file path: \")\n",
    "\n",
    "# Call the function to visualize sales data\n",
    "visualize_sales_data(file_path)"
   ]
  },
  {
   "cell_type": "markdown",
   "metadata": {},
   "source": [
    "## Q11"
   ]
  },
  {
   "cell_type": "code",
   "execution_count": null,
   "metadata": {},
   "outputs": [],
   "source": [
    "import pandas as pd\n",
    "\n",
    "# Function to calculate mean, median, and mode of test scores\n",
    "def calculate_statistics(file_path):\n",
    "    # Read the CSV file into a Pandas DataFrame\n",
    "    df = pd.read_csv(file_path)\n",
    "\n",
    "    # Calculate mean, median, and mode of the test scores\n",
    "    mean_score = df['Test Score'].mean()\n",
    "    median_score = df['Test Score'].median()\n",
    "    mode_scores = df['Test Score'].mode()\n",
    "\n",
    "    # Display the results in a table\n",
    "    results = pd.DataFrame({\n",
    "        'Statistic': ['Mean', 'Median', 'Mode'],\n",
    "        'Value': [mean_score, median_score, ', '.join(map(str, mode_scores))]\n",
    "    })\n",
    "\n",
    "    print(\"\\n\" + results.to_markdown(index=False))\n",
    "\n",
    "# Get user input for the file path\n",
    "file_path = input(\"Enter the file path of the CSV file containing the student data: \")\n",
    "\n",
    "# Call the function to calculate and display statistics\n",
    "calculate_statistics(file_path)\n"
   ]
  }
 ],
 "metadata": {
  "kernelspec": {
   "display_name": "Python 3",
   "language": "python",
   "name": "python3"
  },
  "language_info": {
   "codemirror_mode": {
    "name": "ipython",
    "version": 3
   },
   "file_extension": ".py",
   "mimetype": "text/x-python",
   "name": "python",
   "nbconvert_exporter": "python",
   "pygments_lexer": "ipython3",
   "version": "3.9.6"
  },
  "orig_nbformat": 4
 },
 "nbformat": 4,
 "nbformat_minor": 2
}
