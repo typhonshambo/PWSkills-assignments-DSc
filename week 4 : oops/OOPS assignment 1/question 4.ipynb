{
 "cells": [
  {
   "cell_type": "code",
   "execution_count": null,
   "metadata": {},
   "outputs": [],
   "source": [
    "'''\n",
    "Why self is used in OOPs?\n",
    "\n",
    "- when ever we call any class, we have to make a object first\n",
    "so we use self to pass the object as a arguement in any function present in class.\n",
    "'''"
   ]
  }
 ],
 "metadata": {
  "language_info": {
   "name": "python"
  },
  "orig_nbformat": 4
 },
 "nbformat": 4,
 "nbformat_minor": 2
}
