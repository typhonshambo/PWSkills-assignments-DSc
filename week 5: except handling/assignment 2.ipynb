{
 "cells": [
  {
   "cell_type": "markdown",
   "metadata": {},
   "source": [
    "# Q1. Explain why we have to use the Exception class while creating a Custom Exception. Note: Here Exception class refers to the base class for all the exceptions."
   ]
  },
  {
   "cell_type": "markdown",
   "metadata": {},
   "source": [
    "When creating a custom exception in Python, it's recommended to inherit from the base Exception class or one of its existing subclasses. This is because the base Exception class provides a common and consistent framework for creating and handling exceptions. Here's why it's beneficial:\n",
    "\n",
    "- Clarity: Using the base Exception class allows you to provide a meaningful error message and additional attributes to your custom exception. This helps improve code readability and provides valuable information when an exception occurs.\n",
    "- Versatility: You can create custom exception hierarchies by inheriting from more specific exception classes like ValueError, TypeError, or RuntimeError when your exception has characteristics similar to those existing exceptions"
   ]
  },
  {
   "cell_type": "code",
   "execution_count": null,
   "metadata": {},
   "outputs": [],
   "source": [
    "class MyCustomException(Exception):\n",
    "    def __init__(self, message=\"A custom exception occurred\"):\n",
    "        self.message = message"
   ]
  },
  {
   "cell_type": "markdown",
   "metadata": {},
   "source": [
    "# Q2. Write a Python program to print Python Exception Hierarchy."
   ]
  },
  {
   "cell_type": "markdown",
   "metadata": {},
   "source": [
    "You can print the Python exception hierarchy using the __bases__ attribute of exception classes. Here's a Python program to print the exception hierarchy:"
   ]
  },
  {
   "cell_type": "code",
   "execution_count": 1,
   "metadata": {},
   "outputs": [
    {
     "name": "stdout",
     "output_type": "stream",
     "text": [
      "Python Exception Hierarchy:\n",
      "BaseException\n",
      "    object\n"
     ]
    }
   ],
   "source": [
    "def print_exception_hierarchy(exception_class, indent=0):\n",
    "    print(\" \" * indent + exception_class.__name__)\n",
    "    for subclass in exception_class.__bases__:\n",
    "        print_exception_hierarchy(subclass, indent + 4)\n",
    "\n",
    "print(\"Python Exception Hierarchy:\")\n",
    "print_exception_hierarchy(BaseException)\n"
   ]
  },
  {
   "cell_type": "markdown",
   "metadata": {},
   "source": [
    "# Q3. What errors are defined in the ArithmeticError class? Explain any two with an example."
   ]
  },
  {
   "cell_type": "markdown",
   "metadata": {},
   "source": [
    "- ZeroDivisionError: Raised when attempting to divide by zero.\n",
    "- OverflowError: Raised when the result of an arithmetic operation exceeds the limits of the data type."
   ]
  },
  {
   "cell_type": "code",
   "execution_count": null,
   "metadata": {},
   "outputs": [],
   "source": [
    "try:\n",
    "    result = 10 / 0  # Attempting to divide by zero\n",
    "except ZeroDivisionError as e:\n",
    "    print(f\"Error: {e}\")\n"
   ]
  },
  {
   "cell_type": "code",
   "execution_count": null,
   "metadata": {},
   "outputs": [],
   "source": [
    "my_dict = {\"name\": \"John\", \"age\": 30}\n",
    "try:\n",
    "    value = my_dict[\"city\"]  # Accessing a non-existent key\n",
    "except KeyError as e:\n",
    "    print(f\"Error: {e}\")\n"
   ]
  },
  {
   "cell_type": "markdown",
   "metadata": {},
   "source": [
    "# Why LookupError class is used? Explain with an example KeyError and IndexError."
   ]
  },
  {
   "cell_type": "markdown",
   "metadata": {},
   "source": [
    "The LookupError class is used to categorize exceptions that occur when a key or index is not found in a data structure like a dictionary or a list. It's a base class for exceptions such as KeyError and IndexError. Here's an explanation with examples:"
   ]
  },
  {
   "cell_type": "code",
   "execution_count": null,
   "metadata": {},
   "outputs": [],
   "source": [
    "#lookup error\n",
    "my_dict = {\"name\": \"John\", \"age\": 30}\n",
    "try:\n",
    "    value = my_dict[\"city\"]  # Accessing a non-existent key\n",
    "except KeyError as e:\n",
    "    print(f\"Error: {e}\")\n"
   ]
  },
  {
   "cell_type": "code",
   "execution_count": null,
   "metadata": {},
   "outputs": [],
   "source": [
    "#indexing error\n",
    "my_list = [1, 2, 3]\n",
    "try:\n",
    "    value = my_list[5]  # Accessing an index that is out of range\n",
    "except IndexError as e:\n",
    "    print(f\"Error: {e}\")\n"
   ]
  },
  {
   "cell_type": "markdown",
   "metadata": {},
   "source": [
    "# Q5. Explain ImportError. What is ModuleNotFoundError?"
   ]
  },
  {
   "cell_type": "markdown",
   "metadata": {},
   "source": [
    "ImportError is an exception that occurs when there is an issue while importing a module or a specific object from a module. It can happen for various reasons, such as a module not being installed, a typo in the module name, or problems with the module's contents."
   ]
  },
  {
   "cell_type": "markdown",
   "metadata": {},
   "source": [
    "ModuleNotFoundError: ModuleNotFoundError is a specific subclass of ImportError that is raised when Python cannot locate the module specified in the import statement"
   ]
  },
  {
   "cell_type": "markdown",
   "metadata": {},
   "source": [
    "# Q6. List down some best practices for exception handling in Python."
   ]
  },
  {
   "cell_type": "markdown",
   "metadata": {},
   "source": [
    "- Use Specific Exceptions: Catch and handle specific exceptions rather than using broad exception handlers. This allows you to handle errors more precisely and avoid unintentionally catching unrelated exceptions.\n",
    "- Keep Try Blocks Minimal: Place only the code that might raise an exception inside the try block. Keep the try block as short as possible to narrow down the scope of the exception.\n",
    "- Use finally: When necessary, use the finally block for cleanup operations. Code in the finally block always runs, regardless of whether an exception occurred.\n",
    "- Don't Overuse Exceptions: Exceptions should be used for exceptional conditions,"
   ]
  }
 ],
 "metadata": {
  "kernelspec": {
   "display_name": "Python 3",
   "language": "python",
   "name": "python3"
  },
  "language_info": {
   "codemirror_mode": {
    "name": "ipython",
    "version": 3
   },
   "file_extension": ".py",
   "mimetype": "text/x-python",
   "name": "python",
   "nbconvert_exporter": "python",
   "pygments_lexer": "ipython3",
   "version": "3.9.6"
  },
  "orig_nbformat": 4
 },
 "nbformat": 4,
 "nbformat_minor": 2
}
