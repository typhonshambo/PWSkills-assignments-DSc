{
 "cells": [
  {
   "cell_type": "markdown",
   "metadata": {},
   "source": [
    "# Q1. What is an Exception in python? Write the difference between Exceptions and Syntax errors.\n"
   ]
  },
  {
   "cell_type": "markdown",
   "metadata": {},
   "source": [
    "An exception in Python is an event or condition that disrupts the normal flow of a program's execution. It occurs when the program encounters an error or an unexpected situation during runtime that it cannot handle. When an exception occurs, Python raises an exception object, which contains information about the error, such as its type and a message describing the error.\n",
    "\n",
    "- Exceptions: Exceptions occur during the runtime (execution) of a program. They are typically related to runtime conditions, such as division by zero, accessing an index that does not exist, or opening a file that doesn't exist.\n",
    "- Syntax Errors: Syntax errors are detected by the Python interpreter before the program starts executing. They are related to the structure and grammar of the code, such as missing colons, parentheses, or incorrect indentation."
   ]
  },
  {
   "cell_type": "markdown",
   "metadata": {},
   "source": [
    "# Q2. What happens when an exception is not handled? Explain with an example.\n"
   ]
  },
  {
   "cell_type": "markdown",
   "metadata": {},
   "source": [
    "When an exception is not handled in a Python program, it leads to the program's termination."
   ]
  },
  {
   "cell_type": "code",
   "execution_count": 11,
   "metadata": {},
   "outputs": [
    {
     "ename": "ZeroDivisionError",
     "evalue": "division by zero",
     "output_type": "error",
     "traceback": [
      "\u001b[0;31m---------------------------------------------------------------------------\u001b[0m",
      "\u001b[0;31mZeroDivisionError\u001b[0m                         Traceback (most recent call last)",
      "Cell \u001b[0;32mIn[11], line 4\u001b[0m\n\u001b[1;32m      1\u001b[0m \u001b[39mdef\u001b[39;00m \u001b[39mdivide\u001b[39m(a, b):\n\u001b[1;32m      2\u001b[0m     \u001b[39mreturn\u001b[39;00m a \u001b[39m/\u001b[39m b\n\u001b[0;32m----> 4\u001b[0m result \u001b[39m=\u001b[39m divide(\u001b[39m10\u001b[39;49m, \u001b[39m0\u001b[39;49m)\n\u001b[1;32m      5\u001b[0m \u001b[39mprint\u001b[39m(\u001b[39m\"\u001b[39m\u001b[39mResult:\u001b[39m\u001b[39m\"\u001b[39m, result)\n\u001b[1;32m      7\u001b[0m \u001b[39m#it will create a exception called division by zero\u001b[39;00m\n",
      "Cell \u001b[0;32mIn[11], line 2\u001b[0m, in \u001b[0;36mdivide\u001b[0;34m(a, b)\u001b[0m\n\u001b[1;32m      1\u001b[0m \u001b[39mdef\u001b[39;00m \u001b[39mdivide\u001b[39m(a, b):\n\u001b[0;32m----> 2\u001b[0m     \u001b[39mreturn\u001b[39;00m a \u001b[39m/\u001b[39;49m b\n",
      "\u001b[0;31mZeroDivisionError\u001b[0m: division by zero"
     ]
    }
   ],
   "source": [
    "def divide(a, b):\n",
    "    return a / b\n",
    "\n",
    "result = divide(10, 0)\n",
    "print(\"Result:\", result)\n",
    "\n",
    "#it will create a exception called division by zero"
   ]
  },
  {
   "cell_type": "markdown",
   "metadata": {},
   "source": [
    "# Q3. Which Python statements are used to catch and handle exceptions? Explain with an example.\n"
   ]
  },
  {
   "cell_type": "markdown",
   "metadata": {},
   "source": [
    "In Python, you can use try and except statements to catch and handle exceptions."
   ]
  },
  {
   "cell_type": "code",
   "execution_count": null,
   "metadata": {},
   "outputs": [
    {
     "name": "stdout",
     "output_type": "stream",
     "text": [
      "Error: Division by zero is not allowed.\n",
      "Cannot compute result due to the error.\n"
     ]
    }
   ],
   "source": [
    "def divide(a, b):\n",
    "    try:\n",
    "        result = a / b\n",
    "    except ZeroDivisionError as e:\n",
    "        print(e)\n",
    "        result = None\n",
    "    return result\n",
    "\n",
    "num1 = 10\n",
    "num2 = 0\n",
    "\n",
    "result = divide(num1, num2)\n",
    "\n",
    "if result is not None:\n",
    "    print(f\"Result: {result}\")\n",
    "else:\n",
    "    print(\"Cannot compute result due to the error.\")\n"
   ]
  },
  {
   "cell_type": "markdown",
   "metadata": {},
   "source": [
    "# Q4. Explain with an example: \n",
    "# a.try and else \n",
    "# b.finall \n",
    "# c.raise\n"
   ]
  },
  {
   "cell_type": "code",
   "execution_count": null,
   "metadata": {},
   "outputs": [
    {
     "name": "stdout",
     "output_type": "stream",
     "text": [
      "Division was successful.\n",
      "Cleanup: This block always runs.\n",
      "Result: 5.0\n",
      "Error: Division by zero is not allowed.\n",
      "Cleanup: This block always runs.\n",
      "Cannot compute result due to the error.\n"
     ]
    }
   ],
   "source": [
    "def divide(a, b):\n",
    "    try:\n",
    "        result = a / b\n",
    "    except ZeroDivisionError:\n",
    "        print(\"Error: Division by zero is not allowed.\")\n",
    "        result = None\n",
    "    else:\n",
    "        print(\"Division was successful.\")\n",
    "    finally:\n",
    "        print(\"Cleanup: This block always runs.\")\n",
    "\n",
    "    return result\n",
    "\n",
    "# Example 1: Valid division\n",
    "num1 = 10\n",
    "num2 = 2\n",
    "result = divide(num1, num2)\n",
    "print(f\"Result: {result}\")\n",
    "\n",
    "# Example 2: Division by zero\n",
    "num1 = 10\n",
    "num2 = 0\n",
    "result = divide(num1, num2)\n",
    "if result is not None:\n",
    "    print(f\"Result: {result}\")\n",
    "else:\n",
    "    print(\"Cannot compute result due to the error.\")\n"
   ]
  },
  {
   "cell_type": "markdown",
   "metadata": {},
   "source": [
    "- The divide function attempts to divide num1 by num2 inside a try block.\n",
    "- If a ZeroDivisionError occurs (which happens when num2 is zero), the program jumps to the corresponding except block, which prints an error message and sets result to None.\n",
    "- If no exception occurs, the program enters the else block, which prints a message indicating that the division was successful.\n",
    "- Regardless of whether an exception occurs or not, the finally block always runs. In this example, it prints a message indicating that it's for cleanup purposes. This block is useful for tasks like releasing resources or closing files, and it ensures that certain code is executed regardless of whether an exception occurred.\n",
    "- Finally, the program returns the result, and outside the divide function, it prints the result or an error message based on whether result is None."
   ]
  },
  {
   "cell_type": "markdown",
   "metadata": {},
   "source": [
    "# What are Custom Exceptions in python? Why do we need Custom Exceptions? Explain with an example.\n"
   ]
  },
  {
   "cell_type": "markdown",
   "metadata": {},
   "source": [
    "Custom exceptions in Python are user-defined exception classes that extend the base Exception class or one of its subclasses.\n",
    "- Custom exceptions allow you to define and raise exceptions that are specific to your application or domain. This makes it easier to handle exceptional conditions in a more meaningful and structured way."
   ]
  },
  {
   "cell_type": "code",
   "execution_count": null,
   "metadata": {},
   "outputs": [
    {
     "name": "stdout",
     "output_type": "stream",
     "text": [
      "Valid age entered\n"
     ]
    }
   ],
   "source": [
    "class raiser(Exception):\n",
    "    def __init__(self, msg):\n",
    "        self.msg = msg\n",
    "\n",
    "def ageChecker(age):\n",
    "    if age < 0:\n",
    "        raise raiser(\"Age negative\")\n",
    "    elif age > 190:\n",
    "        raise raiser(\"your age is too large\")\n",
    "    else:\n",
    "        raise raiser(\"Valid age entered\")\n",
    "    \n",
    "try:\n",
    "    age = int(input(\"Enter your age : \"))\n",
    "    ageChecker(age)\n",
    "except raiser as e:\n",
    "    print(e)\n",
    "\n"
   ]
  },
  {
   "cell_type": "markdown",
   "metadata": {},
   "source": [
    "# Create a custom exception class. Use this class to handle an exception."
   ]
  },
  {
   "cell_type": "code",
   "execution_count": 15,
   "metadata": {},
   "outputs": [
    {
     "name": "stdout",
     "output_type": "stream",
     "text": [
      "Your value is negative\n"
     ]
    }
   ],
   "source": [
    "class customException(Exception):\n",
    "    def __init__(self, msg = \"A custom exception occurred\"):\n",
    "        self.msg = msg\n",
    "\n",
    "def negCheck(val):\n",
    "    if val < 0:\n",
    "        raise customException(\"Your value is negative\")\n",
    "    else:\n",
    "        print(f\"your value is {val}\")\n",
    "\n",
    "try:\n",
    "    val = int(input(\"Enter a value : \"))\n",
    "    negCheck(val)\n",
    "except customException as e:\n",
    "    print(e)"
   ]
  }
 ],
 "metadata": {
  "kernelspec": {
   "display_name": "Python 3",
   "language": "python",
   "name": "python3"
  },
  "language_info": {
   "codemirror_mode": {
    "name": "ipython",
    "version": 3
   },
   "file_extension": ".py",
   "mimetype": "text/x-python",
   "name": "python",
   "nbconvert_exporter": "python",
   "pygments_lexer": "ipython3",
   "version": "3.9.6"
  },
  "orig_nbformat": 4
 },
 "nbformat": 4,
 "nbformat_minor": 2
}
