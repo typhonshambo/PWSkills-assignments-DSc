{
 "cells": [
  {
   "cell_type": "markdown",
   "metadata": {},
   "source": [
    "question 1"
   ]
  },
  {
   "cell_type": "code",
   "execution_count": null,
   "metadata": {},
   "outputs": [],
   "source": [
    "strn = \"This is a string\"\n",
    "list1 = [\"this\", \"is\", \"a\", \"list\"]\n",
    "flt = 0.001\n",
    "typl = (1,2,3,4,5,6,7,8,9,10)"
   ]
  },
  {
   "cell_type": "markdown",
   "metadata": {},
   "source": [
    "question 2"
   ]
  },
  {
   "cell_type": "markdown",
   "metadata": {},
   "source": [
    "1. string\n",
    "2. string\n",
    "3. list\n",
    "4. integer"
   ]
  },
  {
   "cell_type": "markdown",
   "metadata": {},
   "source": [
    "question 3"
   ]
  },
  {
   "cell_type": "markdown",
   "metadata": {},
   "source": [
    "(i) `/` - Division Operator:\n",
    "   - The `/` operator is used for division, which performs floating-point division.\n",
    "   - Example:\n",
    "     ```python\n",
    "     result = 10 / 3\n",
    "     print(result)  # Output: 3.3333333333333335\n",
    "     ```\n",
    "\n",
    "(ii) `%` - Modulus Operator:\n",
    "   - The `%` operator is used for modulus division, which gives the remainder when one number is divided by another.\n",
    "   - Example:\n",
    "     ```python\n",
    "     remainder = 10 % 3\n",
    "     print(remainder)  # Output: 1\n",
    "     ```\n",
    "\n",
    "(iii) `//` - Floor Division Operator:\n",
    "   - The `//` operator is used for floor division, which returns the integer part of the result of division.\n",
    "   - Example:\n",
    "     ```python\n",
    "     result = 10 // 3\n",
    "     print(result)  # Output: 3\n",
    "     ```\n",
    "\n",
    "(iv) `**` - Exponentiation Operator:\n",
    "   - The `**` operator is used for exponentiation, which raises a number to a power.\n",
    "   - Example:\n",
    "     ```python\n",
    "     result = 2 ** 3\n",
    "     print(result)  # Output: 8\n",
    "     ```\n",
    "\n",
    "\n"
   ]
  },
  {
   "cell_type": "markdown",
   "metadata": {},
   "source": [
    "question 4"
   ]
  },
  {
   "cell_type": "code",
   "execution_count": null,
   "metadata": {},
   "outputs": [],
   "source": [
    "my_list = [42, \"Hello, World!\", 3.1416, True, [1, 2, 3], {\"name\": \"Alice\", \"age\": 30}, None, (4, 5), 9.99, False]\n",
    "\n",
    "for item in my_list:\n",
    "    print(f\"Element: {item}, Data Type: {type(item)}\")\n"
   ]
  },
  {
   "cell_type": "markdown",
   "metadata": {},
   "source": [
    "question 5"
   ]
  },
  {
   "cell_type": "code",
   "execution_count": null,
   "metadata": {},
   "outputs": [],
   "source": [
    "# Input the values of A and B\n",
    "A = int(input(\"Enter number A: \"))\n",
    "B = int(input(\"Enter number B: \"))\n",
    "\n",
    "# Initialize a count variable to keep track of divisions\n",
    "count = 0\n",
    "\n",
    "# Use a while loop to check if A is divisible by B\n",
    "while A % B == 0:\n",
    "    A = A // B  # Update A by dividing it by B\n",
    "    count += 1  # Increment the count\n",
    "\n",
    "# Check if A became 1, indicating purely divisible\n",
    "if A == 1:\n",
    "    print(f\"{A} is purely divisible by {B}, and it can be divided {count} times.\")\n",
    "else:\n",
    "    print(f\"{A} is not purely divisible by {B}.\")\n"
   ]
  },
  {
   "cell_type": "markdown",
   "metadata": {},
   "source": [
    "question 6"
   ]
  },
  {
   "cell_type": "code",
   "execution_count": null,
   "metadata": {},
   "outputs": [],
   "source": [
    "# Create a list of 25 integers\n",
    "int_list = [12, 6, 7, 9, 18, 27, 15, 4, 30, 21, 8, 33, 10, 11, 5, 36, 22, 13, 45, 16, 3, 14, 19, 25, 20]\n",
    "\n",
    "# Use a for loop to iterate through the list\n",
    "for num in int_list:\n",
    "    if num % 3 == 0:\n",
    "        print(f\"{num} is divisible by 3\")\n",
    "    else:\n",
    "        print(f\"{num} is not divisible by 3\")\n"
   ]
  },
  {
   "cell_type": "markdown",
   "metadata": {},
   "source": [
    "question 7"
   ]
  },
  {
   "cell_type": "markdown",
   "metadata": {},
   "source": [
    "Mutable and immutable data types refer to whether an object's value can be changed after it is created. In programming, understanding this distinction is crucial as it impacts how data can be manipulated and shared in your code. Here's an explanation with examples for both:\n",
    "\n",
    "Mutable Data Types:\n",
    "Mutable data types are those whose values can be altered or modified after creation. When you modify a mutable object, you are actually changing the original object in memory, not creating a new one.\n",
    "Examples of Mutable Data Types:\n",
    "Lists: Lists in Python are mutable. You can add, remove, or modify elements within a list."
   ]
  },
  {
   "cell_type": "code",
   "execution_count": null,
   "metadata": {},
   "outputs": [],
   "source": [
    "my_list = [1, 2, 3]\n",
    "my_list.append(4)  # Modifies the original list"
   ]
  },
  {
   "cell_type": "markdown",
   "metadata": {},
   "source": [
    "Dictionaries: Dictionaries are also mutable. You can add, update, or remove key-value pairs."
   ]
  },
  {
   "cell_type": "code",
   "execution_count": null,
   "metadata": {},
   "outputs": [],
   "source": [
    "my_dict = {'name': 'Alice', 'age': 30}\n",
    "my_dict['age'] = 31  # Modifies the original dictionary"
   ]
  },
  {
   "cell_type": "markdown",
   "metadata": {},
   "source": [
    "Immutable Data Types\n",
    "Immutable data types are those whose values cannot be changed once they are created. Any operation that seems to modify an immutable object actually creates a new object. Examples of immutable data types include:\n",
    "\n",
    "Integers: Integers are immutable. Any operation that appears to change an integer creates a new integer."
   ]
  },
  {
   "cell_type": "code",
   "execution_count": null,
   "metadata": {},
   "outputs": [],
   "source": [
    "x = 5\n",
    "x += 1  # Creates a new integer with the value 6"
   ]
  },
  {
   "cell_type": "markdown",
   "metadata": {},
   "source": [
    "Tuples: Tuples are immutable collections of elements."
   ]
  },
  {
   "cell_type": "code",
   "execution_count": null,
   "metadata": {},
   "outputs": [],
   "source": [
    "my_tuple = (1, 2, 3)\n",
    "my_tuple += (4,)  # Creates a new tuple with (1, 2, 3, 4)"
   ]
  }
 ],
 "metadata": {
  "language_info": {
   "name": "python"
  },
  "orig_nbformat": 4
 },
 "nbformat": 4,
 "nbformat_minor": 2
}
