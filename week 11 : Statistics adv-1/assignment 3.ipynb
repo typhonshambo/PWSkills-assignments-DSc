{
  "cells": [
    {
      "cell_type": "markdown",
      "id": "65e8ca39",
      "metadata": {},
      "source": [
        "# Q1: What is Estimation Statistics? Explain point estimate and interval estimate.\n",
        "Estimation Statistics involves estimating population parameters from sample data.\n",
        "- Point Estimate: A single value used to estimate a population parameter.\n",
        "- Interval Estimate: An interval (range of values) used to estimate a population parameter."
      ]
    },
    {
      "cell_type": "markdown",
      "id": "ac417543",
      "metadata": {},
      "source": [
        "# Q2. Write a Python function to estimate the population mean using a sample mean and standard deviation.\n",
        "```python\n",
        "def estimate_population_mean(sample_mean, sample_std, sample_size):\n",
        "    margin_of_error = stats.t.ppf(0.975, df=sample_size-1) * (sample_std / np.sqrt(sample_size))\n",
        "    confidence_interval = (sample_mean - margin_of_error, sample_mean + margin_of_error)\n",
        "    return confidence_interval\n",
        "\n",
        "# Example usage:\n",
        "sample_mean = 100\n",
        "sample_std = ...  # Provide your sample standard deviation\n",
        "sample_size = ...  # Provide your sample size\n",
        "estimate_population_mean(sample_mean, sample_std, sample_size)\n",
        "```"
      ]
    },
    {
      "cell_type": "markdown",
      "id": "341d7914",
      "metadata": {},
      "source": [
        "# Q3: What is Hypothesis testing? Why is it used? State the importance of Hypothesis testing.\n",
        "Hypothesis testing is a statistical method used to make inferences about population parameters based on sample data.\n",
        "\n",
        "## Importance of Hypothesis Testing\n",
        "- Allows decision-making in scientific research and business\n",
        "- Provides a systematic way to test and validate assumptions\n",
        "- Helps in drawing conclusions about populations based on samples"
      ]
    },
    {
      "cell_type": "markdown",
      "id": "7ad24bac",
      "metadata": {},
      "source": [
        "# Q4. Create a hypothesis that states whether the average weight of male college students is greater than\n",
        "the average weight of female college students.\n",
        "```markdown\n",
        "Null Hypothesis (H0): The average weight of male college students is equal to or less than the average weight of female college students.\n",
        "Alternative Hypothesis (H1): The average weight of male college students is greater than the average weight of female college students.\n",
        "```"
      ]
    },
    {
      "cell_type": "markdown",
      "id": "538218ba",
      "metadata": {},
      "source": [
        "# Q5. Write a Python script to conduct a hypothesis test on the difference between two population means,\n",
        "given a sample from each population.\n",
        "```python\n",
        "# Assuming you have two samples: sample1 and sample2\n",
        "t_stat, p_value = stats.ttest_ind(sample1, sample2)\n",
        "```"
      ]
    },
    {
      "cell_type": "markdown",
      "id": "7d78f062",
      "metadata": {},
      "source": [
        "# Q6: What is a null and alternative hypothesis? Give some examples.\n",
        "```markdown\n",
        "Null Hypothesis (H0): There is no effect or no difference; any observed difference is due to chance.\n",
        "Alternative Hypothesis (H1): There is a significant effect or difference; the observed difference is not due to chance.\n",
        "\n",
        "Example:\n",
        "H0: The mean height of male and female students is the same.\n",
        "H1: The mean height of male students is different from female students.\n",
        "```"
      ]
    },
    {
      "cell_type": "markdown",
      "id": "501e997b",
      "metadata": {},
      "source": [
        "# Q7: Write down the steps involved in hypothesis testing.\n",
        "1. Formulate the null and alternative hypotheses.\n",
        "2. Choose the significance level (alpha) to determine the critical region.\n",
        "3. Collect and analyze the data.\n",
        "4. Calculate the test statistic.\n",
        "5. Compare the test statistic to the critical value or p-value.\n",
        "6. Make a decision and interpret the results.\n",
        "\n",
        "Note: These steps may vary depending on the type of hypothesis test."
      ]
    },
    {
      "cell_type": "markdown",
      "id": "68f47081",
      "metadata": {},
      "source": [
        "# Q8. Define p-value and explain its significance in hypothesis testing.\n",
        "The p-value is the probability of observing a test statistic as extreme as, or more extreme than, the one observed, assuming the null hypothesis is true.\n",
        "\n",
        "## Significance\n",
        "- If p-value < alpha (significance level), reject the null hypothesis.\n",
        "- If p-value >= alpha, fail to reject the null hypothesis.\n",
        "- Lower p-value indicates stronger evidence against the null hypothesis."
      ]
    }
  ],
  "metadata": {
    "kernelspec": {
      "display_name": "Python 3",
      "language": "python",
      "name": "python3"
    },
    "language_info": {
      "codemirror_mode": {
        "name": "ipython",
        "version": 3
      },
      "file_extension": ".py",
      "mimetype": "text/x-python",
      "name": "python",
      "nbconvert_exporter": "python",
      "pygments_lexer": "ipython3",
      "version": "3.7.10"
    }
  },
  "nbformat": 4,
  "nbformat_minor": 5
}
