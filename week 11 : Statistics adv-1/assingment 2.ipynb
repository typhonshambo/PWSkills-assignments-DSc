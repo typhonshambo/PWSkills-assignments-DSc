{
 "cells": [
  {
   "cell_type": "markdown",
   "metadata": {},
   "source": [
    "# Q1: What are the Probability Mass Function (PMF) and Probability Density Function (PDF)?\n",
    "PMF is for discrete random variables, PDF is for continuous random variables.\n",
    "\n",
    "## Example for PMF (Discrete)\n",
    "coin_toss_outcomes = [0, 1]  # 0 for tails, 1 for heads\n",
    "pmf_values = [0.5, 0.5]  # Equal probability for each outcome\n"
   ]
  },
  {
   "cell_type": "markdown",
   "metadata": {},
   "source": [
    "# Q2: What is Cumulative Density Function (CDF)? Explain with an example. Why CDF is used?\n",
    "CDF gives the probability that a random variable is less than or equal to a specific value.\n",
    "\n",
    "## Example for CDF (Continuous)\n",
    "x_values = np.linspace(-5, 5, 1000)\n",
    "pdf_values = norm.pdf(x_values, loc=0, scale=1)\n",
    "cdf_values = norm.cdf(x_values, loc=0, scale=1)\n",
    "\n",
    "plt.plot(x_values, pdf_values, label='PDF')\n",
    "plt.plot(x_values, cdf_values, label='CDF')\n",
    "plt.legend()\n",
    "plt.title('PDF and CDF of Standard Normal Distribution')\n",
    "plt.show()"
   ]
  },
  {
   "cell_type": "markdown",
   "metadata": {},
   "source": [
    "# Q3: What are some examples of situations where the normal distribution might be used?\n",
    "Example situations include heights of people, errors in measurements, and test scores.\n",
    "\n",
    "## Parameters of Normal Distribution\n",
    "mu = mean, sigma = standard deviation\n"
   ]
  },
  {
   "cell_type": "markdown",
   "metadata": {},
   "source": [
    "# Q4: Explain the importance of Normal Distribution. Give a few real-life examples.\n",
    "Normal distribution is essential in statistics as it simplifies analysis and modeling.\n",
    "\n",
    "## Real-Life Examples\n",
    "- Heights of a population\n",
    "- Test scores\n",
    "- Errors in measurements\n"
   ]
  },
  {
   "cell_type": "markdown",
   "metadata": {},
   "source": [
    "# Q5: What is Bernoulli Distribution? Give an Example. What is the difference between Bernoulli Distribution and Binomial Distribution?\n",
    "Bernoulli distribution models a single binary random variable (success or failure).\n",
    "Binomial distribution models the number of successes in a fixed number of independent Bernoulli trials.\n",
    "\n",
    "## Example for Bernoulli Distribution\n",
    "coin_toss = bernoulli.rvs(p=0.5, size=10)  # 10 random coin tosses with a 50% chance of success\n",
    "\n",
    "## Difference\n",
    "Bernoulli: 1 trial, Binomial: multiple trials\n"
   ]
  },
  {
   "cell_type": "markdown",
   "metadata": {},
   "source": [
    "# Q6. Consider a dataset with a mean of 50 and a standard deviation of 10. If we assume that the dataset\n",
    "is normally distributed, what is the probability that a randomly selected observation will be greater\n",
    "than 60? Use the appropriate formula and show your calculations.\n",
    "\n",
    "## Calculation\n",
    "z_score = (60 - 50) / 10  # Calculate the z-score\n",
    "probability_greater_than_60 = 1 - norm.cdf(z_score)  # Calculate the probability\n",
    "\n",
    "## Output\n",
    "probability_greater_than_60"
   ]
  },
  {
   "cell_type": "markdown",
   "metadata": {},
   "source": [
    "# Q7: Explain uniform Distribution with an example.\n",
    "Uniform distribution has constant probability. Example: rolling a fair six-sided die.\n",
    "\n",
    "## Example\n",
    "uniform_data = np.random.uniform(0, 1, 1000)  # Generate 1000 random numbers between 0 and 1\n",
    "plt.hist(uniform_data, bins=20, density=True, alpha=0.7)\n",
    "plt.title('Uniform Distribution')\n",
    "plt.show()"
   ]
  },
  {
   "cell_type": "markdown",
   "metadata": {},
   "source": [
    "# Q8: What is the z score? State the importance of the z score.\n",
    "The z-score measures how many standard deviations a data point is from the mean.\n",
    "\n",
    "## Importance\n",
    "- Standardizing data for comparisons\n",
    "- Identifying outliers\n"
   ]
  },
  {
   "cell_type": "markdown",
   "metadata": {},
   "source": [
    "# Q9: What is Central Limit Theorem? State the significance of the Central Limit Theorem.\n",
    "Central Limit Theorem states that the distribution of the sum/average of independent, identically distributed random variables approaches a normal distribution.\n",
    "\n",
    "## Significance\n",
    "- Allows use of normal distribution assumptions in statistical inference\n",
    "- Justifies sample mean as a good estimator\n"
   ]
  },
  {
   "cell_type": "markdown",
   "metadata": {},
   "source": [
    "# Q10: State the assumptions of the Central Limit Theorem.\n",
    "1. The random variables must be independent.\n",
    "2. The random variables must be identically distributed.\n",
    "3. The sample size should be sufficiently large.\n"
   ]
  }
 ],
 "metadata": {
  "kernelspec": {
   "display_name": "Python 3",
   "language": "python",
   "name": "python3"
  },
  "language_info": {
   "codemirror_mode": {
    "name": "ipython",
    "version": 3
   },
   "file_extension": ".py",
   "mimetype": "text/x-python",
   "name": "python",
   "nbconvert_exporter": "python",
   "pygments_lexer": "ipython3",
   "version": "3.7.10"
  }
 },
 "nbformat": 4,
 "nbformat_minor": 5
}
