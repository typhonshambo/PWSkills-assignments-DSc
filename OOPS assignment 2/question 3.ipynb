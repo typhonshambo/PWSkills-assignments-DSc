{
 "cells": [
  {
   "cell_type": "markdown",
   "metadata": {},
   "source": [
    "## What is abc module in python? Why is it used?\n",
    "\n",
    "> ### The abc module in Python provides the infrastructure for defining abstract base classes (ABCs). Abstract base classes are classes that cannot be instantiated, but they can be used to define the interface that must be implemented by their subclasses."
   ]
  }
 ],
 "metadata": {
  "language_info": {
   "name": "python"
  },
  "orig_nbformat": 4
 },
 "nbformat": 4,
 "nbformat_minor": 2
}
