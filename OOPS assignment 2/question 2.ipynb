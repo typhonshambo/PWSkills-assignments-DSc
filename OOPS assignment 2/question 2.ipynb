{
 "cells": [
  {
   "cell_type": "code",
   "execution_count": 5,
   "metadata": {},
   "outputs": [
    {
     "data": {
      "text/plain": [
       "'\\nDifferentiate between Abstraction and Encapsulation. \\nExplain with an example.\\n\\n- abstract is just creating a template of any class\\nwhere as Encapsulation is the process of hiding any data in\\nthe class so that it is not accessible to the user outside\\n'"
      ]
     },
     "execution_count": 5,
     "metadata": {},
     "output_type": "execute_result"
    }
   ],
   "source": [
    "'''\n",
    "Differentiate between Abstraction and Encapsulation. \n",
    "Explain with an example.\n",
    "\n",
    "- abstract is just creating a template of any class\n",
    "where as Encapsulation is the process of hiding any data in\n",
    "the class so that it is not accessible to the user outside\n",
    "'''"
   ]
  },
  {
   "cell_type": "code",
   "execution_count": 6,
   "metadata": {},
   "outputs": [
    {
     "name": "stdout",
     "output_type": "stream",
     "text": [
      "name\n"
     ]
    }
   ],
   "source": [
    "## abstraction\n",
    "class car:\n",
    "    def movement():\n",
    "        pass\n",
    "    def speed():\n",
    "        pass\n",
    "    def color():\n",
    "        pass\n",
    "\n",
    "#encapsulation\n",
    "class student:\n",
    "    def __init__(self, name, roll) -> None:\n",
    "        self.__name = name\n",
    "        self.__roll = roll\n",
    "\n",
    "\n",
    "    @property\n",
    "    def get_name(self):\n",
    "        return self.__name\n",
    "\n",
    "    \n",
    "student = student(\"name\", 12)\n",
    "print(student.get_name)\n"
   ]
  },
  {
   "cell_type": "markdown",
   "metadata": {},
   "source": [
    "### In the above code we cannot get the value of `name` and `roll` from the class `student` directly but we can get it using a getter"
   ]
  }
 ],
 "metadata": {
  "kernelspec": {
   "display_name": "Python 3",
   "language": "python",
   "name": "python3"
  },
  "language_info": {
   "codemirror_mode": {
    "name": "ipython",
    "version": 3
   },
   "file_extension": ".py",
   "mimetype": "text/x-python",
   "name": "python",
   "nbconvert_exporter": "python",
   "pygments_lexer": "ipython3",
   "version": "3.11.4"
  },
  "orig_nbformat": 4
 },
 "nbformat": 4,
 "nbformat_minor": 2
}
