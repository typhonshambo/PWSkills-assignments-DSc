{
 "cells": [
  {
   "cell_type": "code",
   "execution_count": null,
   "metadata": {},
   "outputs": [],
   "source": [
    "'''\n",
    "Explain why the __init__() function is used. \n",
    "Give a suitable example.\n",
    "\n",
    "- init is a dunder used to run any task upon calling any class.\n",
    "the task can be printing some message or taking some variable as input\n",
    "\n",
    "'''"
   ]
  },
  {
   "cell_type": "code",
   "execution_count": null,
   "metadata": {},
   "outputs": [],
   "source": [
    "class cars: \n",
    "    \n",
    "    def __init__(self, name, speed) -> None:\n",
    "        self.__name = name\n",
    "        self.__speed = speed\n",
    "\n",
    "cars = cars(\"toyota\" , 30) \n",
    "\n",
    "# here we are using init to store car name and speed as variable\n",
    "# as soon as the user is calling the class\n"
   ]
  }
 ],
 "metadata": {
  "language_info": {
   "name": "python"
  },
  "orig_nbformat": 4
 },
 "nbformat": 4,
 "nbformat_minor": 2
}
