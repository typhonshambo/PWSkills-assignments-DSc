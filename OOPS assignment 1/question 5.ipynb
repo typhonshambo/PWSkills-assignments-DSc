{
 "cells": [
  {
   "cell_type": "code",
   "execution_count": 3,
   "metadata": {},
   "outputs": [
    {
     "data": {
      "text/plain": [
       "'\\nWhat is inheritance? \\nGive an example for each type of inheritance.\\n\\n- the process of inheriting the methods of any class on any\\nsub-class is know as inheritance\\n\\ntypes - \\n- single\\n- multiple\\n\\n'"
      ]
     },
     "execution_count": 3,
     "metadata": {},
     "output_type": "execute_result"
    }
   ],
   "source": [
    "'''\n",
    "What is inheritance? \n",
    "Give an example for each type of inheritance.\n",
    "\n",
    "- the process of inheriting the methods of any class on any\n",
    "sub-class is know as inheritance\n",
    "\n",
    "types - \n",
    "- single\n",
    "- multiple\n",
    "\n",
    "'''"
   ]
  },
  {
   "cell_type": "code",
   "execution_count": 4,
   "metadata": {},
   "outputs": [
    {
     "name": "stdout",
     "output_type": "stream",
     "text": [
      "this is from parent class\n"
     ]
    }
   ],
   "source": [
    "# single inheritance\n",
    "\n",
    "class parent:\n",
    "    def method1(self):\n",
    "        return \"this is from parent class\"\n",
    "    \n",
    "class child(parent):\n",
    "    def method2(self):\n",
    "        return \"this is from child class\"\n",
    "\n",
    "child = child()\n",
    "print(child.method1())"
   ]
  },
  {
   "cell_type": "code",
   "execution_count": 5,
   "metadata": {},
   "outputs": [
    {
     "name": "stdout",
     "output_type": "stream",
     "text": [
      "this is from class 1\n",
      "this is from class 2\n"
     ]
    }
   ],
   "source": [
    "#multiple inheritance\n",
    "class class1:\n",
    "    def method1(self):\n",
    "        print(\"this is from class 1\")\n",
    "    \n",
    "class class2:\n",
    "    def method2(self):\n",
    "        print(\"this is from class 2\")\n",
    "\n",
    "class class3(class1, class2):\n",
    "    pass\n",
    "\n",
    "class3 = class3()\n",
    "class3.method1()\n",
    "class3.method2() #here class3 has inherited methods from both class1 as well as class2 "
   ]
  }
 ],
 "metadata": {
  "kernelspec": {
   "display_name": "Python 3",
   "language": "python",
   "name": "python3"
  },
  "language_info": {
   "codemirror_mode": {
    "name": "ipython",
    "version": 3
   },
   "file_extension": ".py",
   "mimetype": "text/x-python",
   "name": "python",
   "nbconvert_exporter": "python",
   "pygments_lexer": "ipython3",
   "version": "3.11.4"
  },
  "orig_nbformat": 4
 },
 "nbformat": 4,
 "nbformat_minor": 2
}
