{
 "cells": [
  {
   "cell_type": "markdown",
   "metadata": {},
   "source": [
    "## Q1. What is Statistics?\n",
    "\n",
    "Statistics is the discipline that deals with the collection, analysis, interpretation, presentation, and organization of data. It provides methods to draw inferences about populations based on a sample of data.\n",
    "\n",
    "## Q2. Types of Statistics\n",
    "\n",
    "- Descriptive Statistics: Involves summarizing and presenting data. Example: Mean, Median, Mode.\n",
    "- Inferential Statistics: Involves making inferences about a population based on a sample. Example: Hypothesis testing.\n",
    "\n",
    "## Q3. Types of Data\n",
    "\n",
    "- Qualitative Data: Represents categories. Example: Colors of fruits.\n",
    "- Quantitative Data: Represents quantities. Example: Height of students.\n",
    "\n",
    "## Q4. Categorization of Datasets\n",
    "\n",
    "- Grading in Exam: Qualitative (Ordinal)\n",
    "- Colour of Mangoes: Qualitative (Nominal)\n",
    "- Height Data of a Class: Quantitative (Continuous)\n",
    "- Number of Mangoes Exported: Quantitative (Discrete)\n",
    "\n",
    "## Q5. Levels of Measurement\n",
    "\n",
    "- Nominal: Categories with no inherent order. Example: Colors.\n",
    "- Ordinal: Categories with a clear order. Example: Education levels.\n",
    "- Interval: Equal intervals with no true zero. Example: Temperature (Celsius).\n",
    "- Ratio: Equal intervals with a true zero. Example: Height.\n",
    "\n",
    "## Q6. Importance of Level of Measurement\n",
    "\n",
    "Understanding the level of measurement is crucial for choosing appropriate statistical analyses. For example, you can't perform certain operations on ordinal data like finding the mean.\n",
    "\n",
    "## Q7. Nominal vs. Ordinal\n",
    "\n",
    "Nominal data has categories with no order, while ordinal data has categories with a clear order.\n",
    "\n",
    "## Q8. Plot for Range\n",
    "\n",
    "A box plot can be used to display data in terms of range.\n",
    "\n",
    "## Q9. Descriptive vs. Inferential Statistics\n",
    "\n",
    "Descriptive statistics summarize and present data, while inferential statistics make inferences about populations based on samples. Example: Descriptive - Mean and Standard Deviation, Inferential - Hypothesis Testing.\n",
    "\n",
    "## Q10. Measures of Central Tendency and Variability\n",
    "\n",
    "- Measures of Central Tendency: Mean, Median, Mode.\n",
    "- Measures of Variability: Range, Variance, Standard Deviation.\n",
    "\n",
    "This concludes the overview of statistics and data analysis."
   ]
  }
 ],
 "metadata": {
  "kernelspec": {
   "display_name": "Python 3",
   "language": "python",
   "name": "python3"
  },
  "language_info": {
   "codemirror_mode": {
    "name": "ipython",
    "version": 3
   },
   "file_extension": ".py",
   "mimetype": "text/x-python",
   "name": "python",
   "nbconvert_exporter": "python",
   "pygments_lexer": "ipython3",
   "version": "3.8.5"
  }
 },
 "nbformat": 4,
 "nbformat_minor": 4
}
